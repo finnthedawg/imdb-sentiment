{
 "cells": [
  {
   "cell_type": "markdown",
   "metadata": {
    "colab_type": "text",
    "id": "bR4O8vRDKy1C"
   },
   "source": [
    "# Natural Language Processing \n",
    "### CS-UH 2216 - Spring 2019\n",
    "## Sentiment Analysis of 100,000 IMDB movie reviews\n",
    "---\n"
   ]
  },
  {
   "cell_type": "markdown",
   "metadata": {},
   "source": [
    "## Downloading the Imdb movie review data set"
   ]
  },
  {
   "cell_type": "code",
   "execution_count": 1,
   "metadata": {},
   "outputs": [
    {
     "name": "stdout",
     "output_type": "stream",
     "text": [
      "aclImdb/imdbEr.txt  aclImdb/imdb.vocab\taclImdb/README\r\n",
      "\r\n",
      "aclImdb/test:\r\n",
      "labeledBow.feat  neg  pos  urls_neg.txt  urls_pos.txt\r\n",
      "\r\n",
      "aclImdb/train:\r\n",
      "labeledBow.feat  pos\tunsupBow.feat  urls_pos.txt\r\n",
      "neg\t\t unsup\turls_neg.txt   urls_unsup.txt\r\n"
     ]
    }
   ],
   "source": [
    "import warnings\n",
    "import numpy as np\n",
    "warnings.filterwarnings('ignore') \n",
    "\n",
    "import os\n",
    "\n",
    "# The code below will check to see if the data directory exists; if not, it will download the data.\n",
    "if os.path.exists(\"./aclImdb\") == False:\n",
    "    print(\"Downloading the Imdb movie review data set\")\n",
    "    !wget http://ai.stanford.edu/~amaas/data/sentiment/aclImdb_v1.tar.gz\n",
    "    !tar xf aclImdb_v1.tar.gz\n",
    "#Shell command to show the files and directories we have under aclImdb\n",
    "!ls aclImdb/*"
   ]
  },
  {
   "cell_type": "markdown",
   "metadata": {},
   "source": [
    "# 1. Analysis of data"
   ]
  },
  {
   "cell_type": "code",
   "execution_count": 2,
   "metadata": {},
   "outputs": [
    {
     "name": "stdout",
     "output_type": "stream",
     "text": [
      "number of positive training examples:\n",
      "12500\n",
      "number of negative training examples:\n",
      "12500\n",
      "number of unlabelled training examples:\n",
      "50000\n",
      "number of positive testing examples:\n",
      "12500\n",
      "number of negative testing examples:\n",
      "12500\n"
     ]
    }
   ],
   "source": [
    "#Run this cell first\n",
    "print(\"number of positive training examples:\")\n",
    "pos_train = !ls aclImdb/train/pos/ | wc -l\n",
    "pos_train = int(pos_train[0])\n",
    "print(pos_train)\n",
    "print(\"number of negative training examples:\")\n",
    "neg_train = !ls aclImdb/train/neg/ | wc -l\n",
    "neg_train = int(neg_train[0])\n",
    "print(neg_train)\n",
    "print(\"number of unlabelled training examples:\")\n",
    "unl_train = !ls aclImdb/train/unsup/ | wc -l\n",
    "unl_train = int(unl_train[0])\n",
    "print(unl_train)\n",
    "print(\"number of positive testing examples:\")\n",
    "pos_test = !ls aclImdb/test/pos/ | wc -l\n",
    "pos_test = int(pos_test[0])\n",
    "print(pos_test)\n",
    "print(\"number of negative testing examples:\")\n",
    "neg_test = !ls aclImdb/test/pos/ | wc -l\n",
    "neg_test = int(neg_test[0])\n",
    "print(neg_test)"
   ]
  },
  {
   "cell_type": "markdown",
   "metadata": {},
   "source": [
    "#### 1.1 How many reviews are for training? 75000"
   ]
  },
  {
   "cell_type": "code",
   "execution_count": 3,
   "metadata": {},
   "outputs": [
    {
     "name": "stdout",
     "output_type": "stream",
     "text": [
      "total number of training reviews:\n",
      "75000\n"
     ]
    }
   ],
   "source": [
    "print(\"total number of training reviews:\" )\n",
    "print(pos_train + neg_train + unl_train)"
   ]
  },
  {
   "cell_type": "markdown",
   "metadata": {},
   "source": [
    "#### 1.2 How many reviews are for testing? 25000"
   ]
  },
  {
   "cell_type": "code",
   "execution_count": 4,
   "metadata": {},
   "outputs": [
    {
     "name": "stdout",
     "output_type": "stream",
     "text": [
      "total number of training reviews:\n",
      "25000\n"
     ]
    }
   ],
   "source": [
    "print(\"total number of training reviews:\" )\n",
    "print(pos_test + neg_test)"
   ]
  },
  {
   "cell_type": "markdown",
   "metadata": {},
   "source": [
    "#### 1.3 How many reviews are positive (in total in training and testing)? 25000"
   ]
  },
  {
   "cell_type": "code",
   "execution_count": 5,
   "metadata": {
    "scrolled": true
   },
   "outputs": [
    {
     "name": "stdout",
     "output_type": "stream",
     "text": [
      "total positive instances in training and testing\n",
      "25000\n"
     ]
    }
   ],
   "source": [
    "print(\"total positive instances in training and testing\" )\n",
    "print(pos_train + pos_test)"
   ]
  },
  {
   "cell_type": "markdown",
   "metadata": {},
   "source": [
    "#### 1.4 How many reviews are negative (in total in training and testing)? 25000"
   ]
  },
  {
   "cell_type": "code",
   "execution_count": 6,
   "metadata": {
    "scrolled": false
   },
   "outputs": [
    {
     "name": "stdout",
     "output_type": "stream",
     "text": [
      "total negative instances in training and testing\n",
      "25000\n"
     ]
    }
   ],
   "source": [
    "print(\"total negative instances in training and testing\" )\n",
    "print(neg_train + neg_test)"
   ]
  },
  {
   "cell_type": "markdown",
   "metadata": {},
   "source": [
    "#### 1.5 How many reviews are unlabelled (in total in training and testing)? 50000"
   ]
  },
  {
   "cell_type": "code",
   "execution_count": 7,
   "metadata": {
    "scrolled": false
   },
   "outputs": [
    {
     "name": "stdout",
     "output_type": "stream",
     "text": [
      "total negative instances in training and testing\n",
      "50000\n"
     ]
    }
   ],
   "source": [
    "print(\"total negative instances in training and testing\" )\n",
    "print(unl_train)"
   ]
  },
  {
   "cell_type": "markdown",
   "metadata": {},
   "source": [
    "#### 1.6 What can we use unlabeled reviews for? "
   ]
  },
  {
   "cell_type": "markdown",
   "metadata": {},
   "source": [
    "We can use the unlabeled reviews for building unsupervised learning classification algorithms that can cluster and learn labels of reviews without being given the rating"
   ]
  },
  {
   "cell_type": "markdown",
   "metadata": {},
   "source": [
    "#### 1.7 How was the positive/negative labeling done?"
   ]
  },
  {
   "cell_type": "markdown",
   "metadata": {},
   "source": [
    "The positive and negative labels are classified based on the rating of the user reviews. A negative class is given to ratings <= 4 and a positive class is given to ratings >= 7 out of 10. Hence, reviews with more neural ratings are not included in the positive/negative sets"
   ]
  },
  {
   "cell_type": "markdown",
   "metadata": {},
   "source": [
    "#### 1.8 Simply based on the labeling approach, do we expect some reviews to be harder than others for sentiment analysis?"
   ]
  },
  {
   "cell_type": "markdown",
   "metadata": {},
   "source": [
    "Yes. This is because some reviews with the same label(pos/neg class) are closer to the extreme ends of the scale (1 ratings) while other reviews are closer to the neural end (4 rating). We would expect reviews with the same label but closer to the extreme end of the scale, to be easier to analyze because they likely have more obvious features which we can use for classification"
   ]
  },
  {
   "cell_type": "markdown",
   "metadata": {},
   "source": [
    "#### 1.9 How many are the most negative review [1] (train and test)?"
   ]
  },
  {
   "cell_type": "code",
   "execution_count": 8,
   "metadata": {
    "scrolled": true
   },
   "outputs": [
    {
     "name": "stdout",
     "output_type": "stream",
     "text": [
      "Total number of most negative reviews\n",
      "10122\n"
     ]
    }
   ],
   "source": [
    "max_neg_test = !ls aclImdb/test/neg/ | grep \"\\w*1.txt\" | wc -l\n",
    "max_neg_test = int(max_neg_test[0])\n",
    "max_neg_train = !ls aclImdb/train/neg/ | grep \"\\w*1.txt\" | wc -l\n",
    "max_neg_train = int(max_neg_train[0])\n",
    "print(\"Total number of most negative reviews\")\n",
    "print(max_neg_test + max_neg_train)"
   ]
  },
  {
   "cell_type": "markdown",
   "metadata": {},
   "source": [
    "#### 1.10 How many are the most positive reviews [10] (train and test)?"
   ]
  },
  {
   "cell_type": "code",
   "execution_count": 9,
   "metadata": {
    "scrolled": true
   },
   "outputs": [
    {
     "name": "stdout",
     "output_type": "stream",
     "text": [
      "Total number of most positive reviews\n",
      "9731\n"
     ]
    }
   ],
   "source": [
    "max_pos_test = !ls aclImdb/test/pos/ | grep \"\\w*10.txt\" | wc -l\n",
    "max_pos_test = int(max_pos_test[0])\n",
    "max_pos_train = !ls aclImdb/train/pos/ | grep \"\\w*10.txt\" | wc -l\n",
    "max_pos_train = int(max_pos_train[0])\n",
    "print(\"Total number of most positive reviews\")\n",
    "print(max_pos_test + max_pos_train)"
   ]
  },
  {
   "cell_type": "markdown",
   "metadata": {},
   "source": [
    "## Load data to memory"
   ]
  },
  {
   "cell_type": "code",
   "execution_count": 10,
   "metadata": {},
   "outputs": [],
   "source": [
    "import sklearn\n",
    "from sklearn.datasets import load_files #load_files load text files with categories as subfolder names; \n",
    "\n",
    "# Directory of our data\n",
    "traindir = r'./aclImdb/train'\n",
    "testdir = r'./aclImdb/test'\n",
    "\n",
    "# load pos/neg train and test data\n",
    "train=load_files(traindir,categories=['pos','neg']) #load_files shuffles the text and categories by default.\n",
    "test=load_files(testdir,categories=['pos','neg'])\n",
    "\n",
    "# load an object with all the training data (positive, negative and unlabeled)\n",
    "alltrain = load_files(traindir,categories=['pos','neg','unsup'])\n",
    "#load_files return a dictionary-like object:\n",
    "#1. 'data': the raw text data to learn\n",
    "#2. 'target': the classification labels (integer index)\n",
    "#3. 'target_names': the meaning of the labels\n",
    "#4. 'filenames': the name of the file holding the data point"
   ]
  },
  {
   "cell_type": "code",
   "execution_count": 11,
   "metadata": {},
   "outputs": [
    {
     "name": "stdout",
     "output_type": "stream",
     "text": [
      "Index  = 13374\n",
      "\n",
      "Text = b'Since this movie was based on a true story of a woman who had two children and was not very well-off, it was just scary as to how real it really was! The acting is what gave the movie that push to greatness.<br /><br />Diane Keaton portrayed the main character, Patsy McCartle who had two sons whom she adored. Her performance is what made the real life story come to life on a television screen. It was very hard to watch some of the scenes since they were so real as to what happens when one becomes addicted to drugs.<br /><br />Just watching this very loving mother go from sweet to not caring at all was hard, but so true. I have known people who have gone through withdrawl and it was very much like what happened in this movie, from what I remember.<br /><br />I also thought that it was very risky for the director to want to make a movie out of what happened to this woman. Yet it was done so well. I applaud the director for making this movie.<br /><br />I highly recommend this to anyone who has known someone who has ever been addicted to drugs or to just learn what can happen to you if you do become addicted to them.'\n",
      "\n",
      "Label = pos\n",
      "\n",
      "Filename = ./aclImdb/train/pos/1953_10.txt\n",
      "\n"
     ]
    }
   ],
   "source": [
    "#Browse an example\n",
    "#For example, if we want to see data point with index i \n",
    "i = 13374\n",
    "print(\"Index  = %3d\\n\" % (i))\n",
    "print(\"Text = %s\\n\" % (train.data[i]))\n",
    "print(\"Label = %s\\n\" %(train.target_names[train.target[i]]))\n",
    "print(\"Filename = %s\\n\" % (train.filenames[i]))"
   ]
  },
  {
   "cell_type": "markdown",
   "metadata": {},
   "source": [
    "# 2. Investigating the quality of data"
   ]
  },
  {
   "cell_type": "code",
   "execution_count": 12,
   "metadata": {},
   "outputs": [],
   "source": [
    "#Function to determine rating given the review filename\n",
    "import re\n",
    "def getRating(filename):\n",
    "    match = re.search(\"_(.+).txt\",filename)\n",
    "    if match: #If we have found something\n",
    "        return(int(match.group(1))) #Return the first capture group ()\n",
    "    else:\n",
    "        return None"
   ]
  },
  {
   "cell_type": "code",
   "execution_count": 13,
   "metadata": {},
   "outputs": [],
   "source": [
    "def find_and_print_rating(rating):\n",
    "    #listing filename, label, and at least the first 10 words of text\n",
    "    for i in range(len(train.filenames)):\n",
    "        if(getRating(train.filenames[i]) == rating):\n",
    "            print(\"Label = %s\" %(train.target_names[train.target[i]]))\n",
    "            print(\"Filename: \", train.filenames[i])\n",
    "            print(\"Rating: \", getRating(train.filenames[i]))\n",
    "            print(\"Text: \", train.data[i][0:200])\n",
    "            break"
   ]
  },
  {
   "cell_type": "markdown",
   "metadata": {},
   "source": [
    "#### 2.1 Identify an example of a strong negative sentiment based on human ratings"
   ]
  },
  {
   "cell_type": "code",
   "execution_count": 14,
   "metadata": {},
   "outputs": [
    {
     "name": "stdout",
     "output_type": "stream",
     "text": [
      "Label = neg\n",
      "Filename:  ./aclImdb/train/neg/6802_1.txt\n",
      "Rating:  1\n",
      "Text:  b\"Words can't describe how bad this movie is. I can't explain it by writing only. You have too see it for yourself to get at grip of how horrible a movie really can be. Not that I recommend you to do th\"\n"
     ]
    }
   ],
   "source": [
    "find_and_print_rating(1)"
   ]
  },
  {
   "cell_type": "markdown",
   "metadata": {},
   "source": [
    "#### 2.2 Identify an example of a weak negative sentiment based on human ratings"
   ]
  },
  {
   "cell_type": "code",
   "execution_count": 15,
   "metadata": {},
   "outputs": [
    {
     "name": "stdout",
     "output_type": "stream",
     "text": [
      "Label = neg\n",
      "Filename:  ./aclImdb/train/neg/9503_4.txt\n",
      "Rating:  4\n",
      "Text:  b'Also known in a different form as \"House of Exorcism,\" this messy<br /><br />little film takes itself so seriously as to kill any entertainment value<br /><br />whatsoever.<br /><br />The spare plot i'\n"
     ]
    }
   ],
   "source": [
    "find_and_print_rating(4)"
   ]
  },
  {
   "cell_type": "markdown",
   "metadata": {},
   "source": [
    "#### 2.3 Identify an example of a strong positive sentiment based on human ratings"
   ]
  },
  {
   "cell_type": "code",
   "execution_count": 16,
   "metadata": {},
   "outputs": [
    {
     "name": "stdout",
     "output_type": "stream",
     "text": [
      "Label = pos\n",
      "Filename:  ./aclImdb/train/pos/11485_10.txt\n",
      "Rating:  10\n",
      "Text:  b'Zero Day leads you to think, even re-think why two boys/young men would do what they did - commit mutual suicide via slaughtering their classmates. It captures what must be beyond a bizarre mode of be'\n"
     ]
    }
   ],
   "source": [
    "find_and_print_rating(10)"
   ]
  },
  {
   "cell_type": "markdown",
   "metadata": {},
   "source": [
    "#### 2.4 Identify an example of a weak positive sentiment based on human ratings "
   ]
  },
  {
   "cell_type": "code",
   "execution_count": 17,
   "metadata": {},
   "outputs": [
    {
     "name": "stdout",
     "output_type": "stream",
     "text": [
      "Label = pos\n",
      "Filename:  ./aclImdb/train/pos/9846_7.txt\n",
      "Rating:  7\n",
      "Text:  b'Ok, at the beginning it looked like \"Shrek\" - the loner that is persistently followed by the comic relief. Then it evolves into something really compelling, as the gauntlet is set. And the result is a'\n"
     ]
    }
   ],
   "source": [
    "find_and_print_rating(7)"
   ]
  },
  {
   "cell_type": "markdown",
   "metadata": {},
   "source": [
    "#### 2.5 List one observation of a feature of the text that you think will be helpful to predict sentiment."
   ]
  },
  {
   "cell_type": "markdown",
   "metadata": {},
   "source": [
    "It seems that the choice of vocabulary seems to be correlated with the rating of the review. Certain vocabulary such as \"Horrible\" are seen significantly more frequently in negative instances than in positive instances"
   ]
  },
  {
   "cell_type": "code",
   "execution_count": 18,
   "metadata": {},
   "outputs": [
    {
     "name": "stdout",
     "output_type": "stream",
     "text": [
      "Number of times \"horrible\" appeared in negative reviews:  796\n",
      "Number of times \"horrible\" appeared in positive reviews:  150\n"
     ]
    }
   ],
   "source": [
    "#Number of reviews with \"Horrible\" in contents.\n",
    "negativeOccurances = 0\n",
    "positiveOccurances = 0\n",
    "for i in range(len(train.filenames)):\n",
    "    if(train.target_names[train.target[i]] == 'pos'):\n",
    "        if 'horrible' in str(train.data[i]):\n",
    "            positiveOccurances += 1\n",
    "    else:\n",
    "        if 'horrible' in str(train.data[i]):\n",
    "            negativeOccurances += 1\n",
    "print(\"Number of times \\\"horrible\\\" appeared in negative reviews: \", negativeOccurances)\n",
    "print(\"Number of times \\\"horrible\\\" appeared in positive reviews: \", positiveOccurances)"
   ]
  },
  {
   "cell_type": "markdown",
   "metadata": {},
   "source": [
    "# 3. Building a basic sentiment analyzer"
   ]
  },
  {
   "cell_type": "markdown",
   "metadata": {},
   "source": [
    "Vectorize our text data"
   ]
  },
  {
   "cell_type": "code",
   "execution_count": 19,
   "metadata": {},
   "outputs": [],
   "source": [
    "from sklearn.feature_extraction.text import CountVectorizer #Vectorize our text with top 1000 frequent vocabulary"
   ]
  },
  {
   "cell_type": "code",
   "execution_count": 20,
   "metadata": {},
   "outputs": [],
   "source": [
    "#Create the vectorizer and transform our data\n",
    "vectorizer = CountVectorizer(max_features=1000,analyzer='word',lowercase=True) #Tokenize at word level\n",
    "vectorizer.fit(alltrain.data)\n",
    "train_data_vectorized = vectorizer.transform(train.data)"
   ]
  },
  {
   "cell_type": "markdown",
   "metadata": {},
   "source": [
    "Implement a logistic linear regression model"
   ]
  },
  {
   "cell_type": "code",
   "execution_count": 21,
   "metadata": {},
   "outputs": [
    {
     "data": {
      "text/plain": [
       "LogisticRegression(C=1.0, class_weight=None, dual=False, fit_intercept=True,\n",
       "          intercept_scaling=1, max_iter=100, multi_class='warn',\n",
       "          n_jobs=None, penalty='l2', random_state=None, solver='liblinear',\n",
       "          tol=0.0001, verbose=0, warm_start=False)"
      ]
     },
     "execution_count": 21,
     "metadata": {},
     "output_type": "execute_result"
    }
   ],
   "source": [
    "from sklearn.linear_model import LogisticRegression\n",
    "model = LogisticRegression(solver='liblinear')\n",
    "model.fit(train_data_vectorized, train.target)"
   ]
  },
  {
   "cell_type": "markdown",
   "metadata": {},
   "source": [
    "Predict with the model"
   ]
  },
  {
   "cell_type": "code",
   "execution_count": 22,
   "metadata": {},
   "outputs": [
    {
     "name": "stdout",
     "output_type": "stream",
     "text": [
      "Accuracy  = 85.96%\n",
      "Average Precision = 85.97%\n",
      "Average Recall    = 85.96%\n",
      "Average F1-score  = 85.95%\n"
     ]
    }
   ],
   "source": [
    "from sklearn.metrics import precision_score, recall_score, accuracy_score, f1_score\n",
    "test_pred = model.predict(vectorizer.transform(test.data))\n",
    "#Preliminary evaluation with sklearn\n",
    "print (\"Accuracy  = %3.2f%%\" % (100*accuracy_score(test.target, test_pred)))\n",
    "print (\"Average Precision = %3.2f%%\" % (100*precision_score(test.target, test_pred, average='macro')))\n",
    "print (\"Average Recall    = %3.2f%%\" % (100*recall_score(test.target, test_pred, average='macro')))\n",
    "print (\"Average F1-score  = %3.2f%%\" % (100*f1_score(test.target, test_pred, average='macro')))\n",
    "# The scores for accuracy, and average precision, recall and F1-score are similar. \n",
    "# This is in part an effect of the balanced nature of the data."
   ]
  },
  {
   "cell_type": "markdown",
   "metadata": {},
   "source": [
    "### 3.1 Evaluating Accuracy, Recall and F1 scores without sklearn"
   ]
  },
  {
   "cell_type": "code",
   "execution_count": 23,
   "metadata": {},
   "outputs": [
    {
     "name": "stdout",
     "output_type": "stream",
     "text": [
      "Total instances 25000\n",
      "Total correct predictions 21489\n",
      "Correctly predicted negative 10617\n",
      "Incorrectly predicted negative 1883\n",
      "Correctly predicted positive 10872\n",
      "Incorrectly predicted positive 1628\n"
     ]
    }
   ],
   "source": [
    "#Record the instances of correct and incorrect predictions\n",
    "num_neg = 0\n",
    "num_pos = 0\n",
    "neg_correct = 0\n",
    "neg_incorrect = 0\n",
    "pos_correct = 0\n",
    "pos_incorrect = 0\n",
    "\n",
    "for i in range(len(test.target)):\n",
    "    if test.target[i] == 0:\n",
    "        num_neg +=1\n",
    "        if test_pred[i] == 0:\n",
    "            neg_correct += 1\n",
    "        elif test_pred[i] == 1:\n",
    "            neg_incorrect += 1\n",
    "    elif test.target[i] == 1:\n",
    "        num_pos += 1\n",
    "        if test_pred[i] == 0:\n",
    "            pos_incorrect += 1\n",
    "        elif test_pred[i] == 1:\n",
    "            pos_correct += 1\n",
    "\n",
    "print(\"Total instances %d\" % (num_neg + num_pos))\n",
    "print(\"Total correct predictions %d\" % (pos_correct + neg_correct) )\n",
    "print(\"Correctly predicted negative %d\" % (neg_correct))\n",
    "print(\"Incorrectly predicted negative %d\" % (neg_incorrect))\n",
    "print(\"Correctly predicted positive %d\" % (pos_correct))\n",
    "print(\"Incorrectly predicted positive %d\" % (pos_incorrect))"
   ]
  },
  {
   "cell_type": "code",
   "execution_count": 24,
   "metadata": {},
   "outputs": [
    {
     "name": "stdout",
     "output_type": "stream",
     "text": [
      "Accuracy: 85.96%\n",
      "\n",
      "Neg label precision: 86.70%\n",
      "Neg label recall: 84.94%\n",
      "Neg F1 score: 85.81%\n",
      "\n",
      "Pos label precision: 85.24%\n",
      "Pos label recall: 86.98%\n",
      "Pos F1 score: 86.10%\n",
      "\n",
      "Average precision 85.97\n",
      "Average recall 85.96\n",
      "Average F1 score 85.95%\n"
     ]
    }
   ],
   "source": [
    "#Accuracy = Correctly predicted / Total\n",
    "Accuracy = (pos_correct + neg_correct)/(num_neg + num_pos)\n",
    "print(\"Accuracy: %2.2f%%\" % (100*Accuracy))\n",
    "print()\n",
    "\n",
    "#Neg label precision = neg_correct / (neg_correct + pos_incorrect)\n",
    "neg_precision = neg_correct / (neg_correct + pos_incorrect)\n",
    "print(\"Neg label precision: %2.2f%%\" % (100*neg_precision))\n",
    "\n",
    "#Recall of Neg = neg_correct / num_neg\n",
    "neg_recall = neg_correct / num_neg\n",
    "print(\"Neg label recall: %2.2f%%\" % (100*neg_recall))\n",
    "\n",
    "#F1-score harmonic mean of precision and recall. = \n",
    "neg_f1 = 1/( ((1/neg_precision)+(1/neg_recall))/2 )\n",
    "print(\"Neg F1 score: %2.2f%%\" % (100*neg_f1))\n",
    "print()\n",
    "\n",
    "#Pos label precision = pos_correct / (pos_correct + neg_incorrect)\n",
    "pos_precision = pos_correct / (pos_correct + neg_incorrect)\n",
    "print(\"Pos label precision: %2.2f%%\" % (100*pos_precision))\n",
    "\n",
    "#Recall of Pos = pos_correct / num_pos\n",
    "pos_recall = pos_correct / num_pos\n",
    "print(\"Pos label recall: %2.2f%%\" % (100*pos_recall))\n",
    "\n",
    "#F1-score harmonic mean of precision and recall. = \n",
    "pos_f1 = 1/( ((1/pos_precision)+(1/pos_recall))/2 )\n",
    "print(\"Pos F1 score: %2.2f%%\" % (100*pos_f1))\n",
    "print()\n",
    "\n",
    "print(\"Average precision %2.2f\" % (100*(neg_precision + pos_precision)/2))\n",
    "print(\"Average recall %2.2f\" % (100*(neg_recall + pos_recall)/2))\n",
    "print(\"Average F1 score %2.2f%%\" % (100*(neg_f1 + pos_f1)/2))"
   ]
  },
  {
   "cell_type": "markdown",
   "metadata": {},
   "source": [
    "# 4. Individual accuracies"
   ]
  },
  {
   "cell_type": "markdown",
   "metadata": {},
   "source": [
    "### 4.1 Accuracy for each rating (1-4, 7-10)"
   ]
  },
  {
   "cell_type": "code",
   "execution_count": 25,
   "metadata": {},
   "outputs": [
    {
     "name": "stdout",
     "output_type": "stream",
     "text": [
      "Rating 1 accuracy: 91.48\n",
      "Rating 2 accuracy: 87.62\n",
      "Rating 3 accuracy: 81.74\n",
      "Rating 4 accuracy: 73.21\n",
      "\n",
      "Rating 7 accuracy: 79.11\n",
      "Rating 8 accuracy: 85.40\n",
      "Rating 9 accuracy: 89.46\n",
      "Rating 10 accuracy: 90.34\n"
     ]
    }
   ],
   "source": [
    "ratingCorrect = dict()\n",
    "ratingIncorrect = dict()\n",
    "ratings = [1,2,3,4,7,8,9,10]\n",
    "#Initialize the ratings\n",
    "for rating in ratings:\n",
    "    ratingCorrect[rating] = 0\n",
    "    ratingIncorrect[rating] = 0\n",
    "    \n",
    "#Count correct and incorrect instances\n",
    "for i in range(len(test.target)):\n",
    "    rating = getRating(test.filenames[i])\n",
    "    if test.target[i] == test_pred[i]:\n",
    "        ratingCorrect[rating] += 1\n",
    "    else:\n",
    "        ratingIncorrect[rating] += 1\n",
    "\n",
    "# Print the accuracy.\n",
    "for rating in ratings:\n",
    "    print(\"Rating %d accuracy: %2.2f\" % (rating, 100*ratingCorrect[rating]/(ratingCorrect[rating]+ratingIncorrect[rating])))\n",
    "    if rating == 4:\n",
    "        print() #Print a space betwen \"positive\" and \"negative\" ratings"
   ]
  },
  {
   "cell_type": "markdown",
   "metadata": {},
   "source": [
    "We observe that our performance increases near the extreme for the negative class (1) and the extreme for the positive class (10). The performance decreases when the ratings are more neural and close to the center of the scale. This was predicted earlier in § 1.8"
   ]
  },
  {
   "cell_type": "markdown",
   "metadata": {},
   "source": [
    "### 4.2 Data samples for each instance in the cofusion matrix (TP FP FN TN)"
   ]
  },
  {
   "cell_type": "markdown",
   "metadata": {},
   "source": [
    "Let's analyze instances of TN(Neg Neg) FP (Neg Pos) FN(Pos Neg) and TP (Pos Pos)"
   ]
  },
  {
   "cell_type": "code",
   "execution_count": 26,
   "metadata": {},
   "outputs": [],
   "source": [
    "def getInstance(gold, pred):\n",
    "    for i in range(len(test.target)):\n",
    "        if test.target[i] == gold and test_pred[i] == pred:\n",
    "            return(i)\n",
    "    return(-1)"
   ]
  },
  {
   "cell_type": "code",
   "execution_count": 27,
   "metadata": {},
   "outputs": [
    {
     "name": "stdout",
     "output_type": "stream",
     "text": [
      "True negative\n",
      "Gold: Neg | Predicted: Neg | Match: Correct | Rating:  1\n",
      "Text:\n",
      "b'I don\\'t know how this movie has received so many positive comments. One can call it \"artistic\" and \"beautifully filmed\", but those things don\\'t make up for the empty plot that was filled with sexual innuendos. I wish I had not wasted my time to watch this movie. Rather than being biographical, it was a poor excuse for promoting strange and lewd behavior. It was just another Hollywood attempt to convince us that that kind of life is normal and OK. From the very beginning I asked my self what was the point of this movie,and I continued watching, hoping that it would change and was quite disappointed that it continued in the same vein. I am so glad I did not spend the money to see this in a theater!'\n",
      "\n"
     ]
    }
   ],
   "source": [
    "print(\"True negative\")\n",
    "instance = getInstance(0,0)\n",
    "print(\"Gold: Neg | Predicted: Neg | Match: Correct | Rating: \", getRating(test.filenames[instance]))\n",
    "print(\"Text:\")\n",
    "print(test.data[instance])\n",
    "print()"
   ]
  },
  {
   "cell_type": "markdown",
   "metadata": {},
   "source": [
    "This negative example was correctly predicted negatively. Since we are analyzing word frequency, this review has a lot of words such as \"dissapointed\" \"poor\" \"attempt\" and \"wasted\" which would have likely pushed the algorithm to predict a negative classification"
   ]
  },
  {
   "cell_type": "code",
   "execution_count": 28,
   "metadata": {},
   "outputs": [
    {
     "name": "stdout",
     "output_type": "stream",
     "text": [
      "False positive\n",
      "Gold: Neg | Predicted: Pos | Match: Incorrect | Rating:  4\n",
      "Text:\n",
      "b\"Even Disney are guilty of the cash cow disease, after the roaring success of The Love Bug in 1968, the house of mouse cashed in with Herbie Rides Again, Herbie Goes To Monte Carlo, and Herbie Goes Bananas. Neither sequel capturing the charm and inoffensive appeal of The Love Bug back in 68, in this one we find race driver Jim Douglas and his sidekick Wheely Applegate, entering Herbie in the Monte Carlo Rally. Naturally things outside of the race start to take over priorities, they get mixed up in a diamond robbery and Herbie falls in love with another car!. The car stunts are of course pleasant and easy on the eye, and it would be churlish of me to really vent venom on such a friendly piece of fluff, it's just that the film goes nowhere fast and personally now i can see it for the coin motivated piece of work it is. Still you get to see Herbie take a bath, foil the baddies and of course dance for the lady in his life, so something there for everyone i think....................4/10.\"\n",
      "\n"
     ]
    }
   ],
   "source": [
    "print(\"False positive\")\n",
    "instance = getInstance(0,1)\n",
    "print(\"Gold: Neg | Predicted: Pos | Match: Incorrect | Rating: \", getRating(test.filenames[instance]))\n",
    "print(\"Text:\")\n",
    "print(test.data[instance])\n",
    "print()"
   ]
  },
  {
   "cell_type": "markdown",
   "metadata": {},
   "source": [
    "This example was predicted to be positive when it was negative. First this example was a difficult review to classify as it's rating was quite near the center (4). Second, the review uses a lot of vocabulary such as \"love\" \"pleasant\" \"charm\" frequently which indicate that the reviewed liked the movie. The model doesn't know that the reviewer could be describing the contents of the movie"
   ]
  },
  {
   "cell_type": "code",
   "execution_count": 29,
   "metadata": {},
   "outputs": [
    {
     "name": "stdout",
     "output_type": "stream",
     "text": [
      "False negative\n",
      "Gold: Pos | Predicted: Neg | Match: Incorrect | Rating:  7\n",
      "Text:\n",
      "b\"The casting of Robert Culp is probably the only decent move the production team made with this film. Falk and Culp were marvellous, but as culp was not Falks nemesis this time, chemistry was lacking. Columbo is only as strong as his opposite number, and this time he didn't have one.\"\n",
      "\n"
     ]
    }
   ],
   "source": [
    "print(\"False negative\")\n",
    "instance = getInstance(1,0)\n",
    "print(\"Gold: Pos | Predicted: Neg | Match: Incorrect | Rating: \", getRating(test.filenames[instance]))\n",
    "print(\"Text:\")\n",
    "print(test.data[instance])\n",
    "print()"
   ]
  },
  {
   "cell_type": "markdown",
   "metadata": {},
   "source": [
    "Similar to the above review, this review was also close to the center of the scale. In addition, even as a human reading the review, it would be difficult to predict the correct rating. The words used in this review doesn't indicate clearly that it is positive."
   ]
  },
  {
   "cell_type": "code",
   "execution_count": 30,
   "metadata": {},
   "outputs": [
    {
     "name": "stdout",
     "output_type": "stream",
     "text": [
      "True positive\n",
      "Gold: Pos | Predicted: Pos | Match: Correct | Rating:  9\n",
      "Text:\n",
      "b\"Don't hate Heather Graham because she's beautiful, hate her because she's fun to watch in this movie. Like the hip clothing and funky surroundings, the actors in this flick work well together. Casey Affleck is hysterical and Heather Graham literally lights up the screen. The minor characters - Goran Visnjic {sigh} and Patricia Velazquez are as TALENTED as they are gorgeous. Congratulations Miramax & Director Lisa Krueger!\"\n"
     ]
    }
   ],
   "source": [
    "print(\"True positive\")\n",
    "instance = getInstance(1,1)\n",
    "print(\"Gold: Pos | Predicted: Pos | Match: Correct | Rating: \", getRating(test.filenames[instance]))\n",
    "print(\"Text:\")\n",
    "print(test.data[instance])"
   ]
  },
  {
   "cell_type": "markdown",
   "metadata": {},
   "source": [
    "This review was correctly predicted positive. It's likely because of the positive words used \"fun\", \"work well\" and \"congratulations\""
   ]
  },
  {
   "cell_type": "markdown",
   "metadata": {},
   "source": [
    "# 5. Investigating the effect of training size on accuracy"
   ]
  },
  {
   "cell_type": "markdown",
   "metadata": {},
   "source": [
    "We increment the training size from 1000 to 25000 in increments of 1000 and examine the increase in accuracy as we increase the training size"
   ]
  },
  {
   "cell_type": "code",
   "execution_count": 31,
   "metadata": {},
   "outputs": [
    {
     "data": {
      "text/plain": [
       "CountVectorizer(analyzer='word', binary=False, decode_error='strict',\n",
       "        dtype=<class 'numpy.int64'>, encoding='utf-8', input='content',\n",
       "        lowercase=True, max_df=1.0, max_features=1000, min_df=1,\n",
       "        ngram_range=(1, 1), preprocessor=None, stop_words=None,\n",
       "        strip_accents=None, token_pattern='(?u)\\\\b\\\\w\\\\w+\\\\b',\n",
       "        tokenizer=None, vocabulary=None)"
      ]
     },
     "execution_count": 31,
     "metadata": {},
     "output_type": "execute_result"
    }
   ],
   "source": [
    "#Create the vectorizer\n",
    "vectorizer = CountVectorizer(max_features=1000,analyzer='word',lowercase=True) #Tokenize at word level\n",
    "vectorizer.fit(alltrain.data)"
   ]
  },
  {
   "cell_type": "code",
   "execution_count": 32,
   "metadata": {},
   "outputs": [
    {
     "name": "stdout",
     "output_type": "stream",
     "text": [
      "Training size: 1000 Average F1-score: 77.57%\n",
      "Training size: 2000 Average F1-score: 79.22%\n",
      "Training size: 3000 Average F1-score: 79.96%\n",
      "Training size: 4000 Average F1-score: 80.56%\n",
      "Training size: 5000 Average F1-score: 81.76%\n",
      "Training size: 6000 Average F1-score: 82.57%\n",
      "Training size: 7000 Average F1-score: 82.83%\n",
      "Training size: 8000 Average F1-score: 83.71%\n",
      "Training size: 9000 Average F1-score: 84.24%\n",
      "Training size: 10000 Average F1-score: 84.52%\n",
      "Training size: 11000 Average F1-score: 84.58%\n",
      "Training size: 12000 Average F1-score: 84.76%\n",
      "Training size: 13000 Average F1-score: 84.97%\n",
      "Training size: 14000 Average F1-score: 85.18%\n",
      "Training size: 15000 Average F1-score: 85.33%\n",
      "Training size: 16000 Average F1-score: 85.59%\n",
      "Training size: 17000 Average F1-score: 85.51%\n",
      "Training size: 18000 Average F1-score: 85.68%\n",
      "Training size: 19000 Average F1-score: 85.70%\n",
      "Training size: 20000 Average F1-score: 85.72%\n",
      "Training size: 21000 Average F1-score: 85.82%\n",
      "Training size: 22000 Average F1-score: 85.91%\n",
      "Training size: 23000 Average F1-score: 86.08%\n",
      "Training size: 24000 Average F1-score: 86.02%\n",
      "Training size: 25000 Average F1-score: 85.95%\n"
     ]
    }
   ],
   "source": [
    "#Train the model with varying sizes of train data\n",
    "F1list = [] #Track the F1 scores\n",
    "trainSize = [] #Track our training size\n",
    "for i in range(1,26):\n",
    "    trainSize.append(i*1000)\n",
    "    #Create a model\n",
    "    model = LogisticRegression(solver='liblinear')\n",
    "    #Train with our dataset\n",
    "    model.fit(vectorizer.transform(train.data[0:i*1000]), train.target[0:i*1000])\n",
    "    #Vectorize our test data.\n",
    "    test_pred = model.predict(vectorizer.transform(test.data))\n",
    "    #Determine our F1 score\n",
    "    F1 = 100*f1_score(test.target, test_pred, average='macro')\n",
    "    print (\"Training size: %d Average F1-score: %3.2f%%\" % (i*1000, F1))\n",
    "    F1list.append(F1)"
   ]
  },
  {
   "cell_type": "code",
   "execution_count": 33,
   "metadata": {},
   "outputs": [],
   "source": [
    "import matplotlib.pyplot as plt\n",
    "import numpy as np\n",
    "\n",
    "#Function to plot trainsize vs Fscore\n",
    "def plotTrainsizeFscore(trainSize,F1list):\n",
    "    plt.figure(figsize=(8, 4)) \n",
    "    plt.plot(trainSize,F1list,color='blue')\n",
    "    plt.xlabel('Training size', fontsize=10)\n",
    "    plt.ylabel('F-score %', fontsize=10)\n",
    "    plt.title('Learning Curve',fontsize=10)\n",
    "    plt.show()"
   ]
  },
  {
   "cell_type": "code",
   "execution_count": 34,
   "metadata": {},
   "outputs": [
    {
     "data": {
      "image/png": "[encoded data removed]",
      "text/plain": [
       "<Figure size 576x288 with 1 Axes>"
      ]
     },
     "metadata": {
      "needs_background": "light"
     },
     "output_type": "display_data"
    }
   ],
   "source": [
    "#Plot our F1 against data Size\n",
    "plotTrainsizeFscore(trainSize,F1list)"
   ]
  },
  {
   "cell_type": "markdown",
   "metadata": {},
   "source": [
    "I observe that our logistic regression model was suprisingly accurate even when training even with a minimal of 1000 samples. It seems that given only 1000 samples, our model could identify the sentiment relatively well\n",
    "\n",
    "I observe that as the training size increases, the F1 score of the model increases. For example, with only 1000 training samples we can achieve an accuracy of 77.6% while with 5,000 training samples we can achieve a score of 81.8%. This is to be expected because the more training examples we have, the better the predicting capability and generalization to the unseen test the model is.\n",
    "\n",
    "I also observe that as the training size increases, the rate of gain in F1 of adding on an additional 1000 sample decreased. Simply put the F1 score did not increase linearlly to the size of the Training. There appears to be a log relationship.\n",
    "\n",
    "Between 1000 and 2000 examples, the F score increased 1.65% Between 2000 and 4000 it increased 1.34%. Between 4000 and 8000 it increased 3.15%. Between 8000 and 16000 it increased 1.88%. \n",
    "\n",
    "Following this observed relationship, I would expect an increase of around 2% for every doubling in training size. Hence, I expect an increase of another 2% to 88% if we add another 25000 examples. (Although this is not guranteed)\n"
   ]
  },
  {
   "cell_type": "markdown",
   "metadata": {},
   "source": [
    "# 6. Investigating the effect of featureSize and trainingSize"
   ]
  },
  {
   "cell_type": "markdown",
   "metadata": {},
   "source": [
    "The training size varies in increments of 5000 while our feature size (words) varies between 100, 1000 and 10000"
   ]
  },
  {
   "cell_type": "code",
   "execution_count": 35,
   "metadata": {},
   "outputs": [
    {
     "name": "stdout",
     "output_type": "stream",
     "text": [
      "Vectorzing with 100 features\n",
      "Training size: 1000 Average F1-score: 69.86%\n",
      "Training size: 5000 Average F1-score: 72.74%\n",
      "Training size: 10000 Average F1-score: 73.22%\n",
      "Training size: 15000 Average F1-score: 73.32%\n",
      "Training size: 20000 Average F1-score: 73.42%\n",
      "Training size: 25000 Average F1-score: 73.22%\n",
      "Learning curve plot vectorized with 100\n"
     ]
    },
    {
     "data": {
      "image/png": "[encoded data removed]",
      "text/plain": [
       "<Figure size 576x288 with 1 Axes>"
      ]
     },
     "metadata": {
      "needs_background": "light"
     },
     "output_type": "display_data"
    },
    {
     "name": "stdout",
     "output_type": "stream",
     "text": [
      "Vectorzing with 1000 features\n",
      "Training size: 1000 Average F1-score: 77.57%\n",
      "Training size: 5000 Average F1-score: 81.76%\n",
      "Training size: 10000 Average F1-score: 84.52%\n",
      "Training size: 15000 Average F1-score: 85.33%\n",
      "Training size: 20000 Average F1-score: 85.72%\n",
      "Training size: 25000 Average F1-score: 85.95%\n",
      "Learning curve plot vectorized with 1000\n"
     ]
    },
    {
     "data": {
      "image/png": "[encoded data removed]",
      "text/plain": [
       "<Figure size 576x288 with 1 Axes>"
      ]
     },
     "metadata": {
      "needs_background": "light"
     },
     "output_type": "display_data"
    },
    {
     "name": "stdout",
     "output_type": "stream",
     "text": [
      "Vectorzing with 10000 features\n",
      "Training size: 1000 Average F1-score: 79.78%\n",
      "Training size: 5000 Average F1-score: 84.63%\n",
      "Training size: 10000 Average F1-score: 85.14%\n",
      "Training size: 15000 Average F1-score: 85.06%\n",
      "Training size: 20000 Average F1-score: 85.40%\n",
      "Training size: 25000 Average F1-score: 85.52%\n",
      "Learning curve plot vectorized with 10000\n"
     ]
    },
    {
     "data": {
      "image/png": "[encoded data removed]",
      "text/plain": [
       "<Figure size 576x288 with 1 Axes>"
      ]
     },
     "metadata": {
      "needs_background": "light"
     },
     "output_type": "display_data"
    }
   ],
   "source": [
    "for featureSize in [100, 1000, 10000]:\n",
    "    print(\"Vectorzing with %d features\" % (featureSize))\n",
    "    #Create the vectorizer\n",
    "    vectorizer = CountVectorizer(max_features=featureSize,analyzer='word',lowercase=True) #Tokenize at word level\n",
    "    vectorizer.fit(alltrain.data)\n",
    "\n",
    "    #Train the model with varying sizes of train data\n",
    "    F1list = [] #Track the F1 scores\n",
    "    trainSize = [] #Track our training size\n",
    "    for i in [1,5,10,15,20,25]:\n",
    "        trainSize.append(i*1000)\n",
    "        #Create a model\n",
    "        model = LogisticRegression(solver='liblinear')\n",
    "        #Train with our dataset\n",
    "        model.fit(vectorizer.transform(train.data[0:i*1000]), train.target[0:i*1000])\n",
    "        #Vectorize our test data.\n",
    "        test_pred = model.predict(vectorizer.transform(test.data))\n",
    "        #Determine our F1 score\n",
    "        F1 = 100*f1_score(test.target, test_pred, average='macro')\n",
    "        print (\"Training size: %d Average F1-score: %3.2f%%\" % (i*1000, F1))\n",
    "        F1list.append(F1)\n",
    "        \n",
    "    #Plot our F1 against data Size\n",
    "    print(\"Learning curve plot vectorized with %d\" % (featureSize))\n",
    "    plotTrainsizeFscore(trainSize,F1list)"
   ]
  },
  {
   "cell_type": "markdown",
   "metadata": {},
   "source": [
    "This was an interesting investigation. We learnt from §5 that as the training size increases, the F-score increases (although non-linearly). In this section, we conducted the same training size variation, but using different levels of features (words) namely features of 100, 1000 and 10000. What I observed was that not only did the F1-score change, but the profile of the training curve also changed with different number of features.\n",
    "\n",
    "First, using only 100 word features, we see that the F1 score at with a training_size of 1000 was the lowest at 69.86%. With 1000 word features, this increased to 77.57% and with 10,000 this climbed to 79.78%. It seems that as the number of word features increase, the F-score also increases. \n",
    "\n",
    "However, this holds less weight when we train with the full training_size of 25000. At 100 word features, the F1 score was 73.22% and at 1000 features increased to 85.95% as expected. However, with 10,000 features, the score actually decreased to 85.52%.This could suggest that there are only a certain number of \"indicator\" words utilized by our model. After around 1000 features, most of the additional features are perhaps not useful to our predictor. In addition having more features could result in overfitting of our model. This means that after training, our model will generalize less well to the unseen test set.\n",
    "\n",
    "The learning curve profile also varied between different feature settings. For instance, with 100 features, the model quickly learnt the most optimal model. After 5000-10000 training examples, the model did not imrpove the score. It suggests that maybe the model learnt the most optimal parameters. Furthurmore, this score actually dropped after 20,000 instances suggesting either overfitting or lack of features to search over since the feature space is so constrained.\n",
    "\n",
    "With 1000 features, the model could continually and gradually improve its score with added training. "
   ]
  },
  {
   "cell_type": "markdown",
   "metadata": {},
   "source": [
    "# 7. Investigating the effect of TfidVectorizer, and MultinomialNaiveBayes model and training size"
   ]
  },
  {
   "cell_type": "code",
   "execution_count": 36,
   "metadata": {},
   "outputs": [],
   "source": [
    "#Importing our vectorizer and model\n",
    "from sklearn.feature_extraction.text import CountVectorizer\n",
    "from sklearn.feature_extraction.text import TfidfVectorizer\n",
    "from sklearn.linear_model import LogisticRegression\n",
    "from sklearn.naive_bayes import MultinomialNB"
   ]
  },
  {
   "cell_type": "code",
   "execution_count": 37,
   "metadata": {},
   "outputs": [
    {
     "name": "stdout",
     "output_type": "stream",
     "text": [
      "Vectorized with CountVectorizer and trained with LogisticRegression algorithm\n",
      "Training size: 1000 Average F1-score: 77.57%\n",
      "Training size: 5000 Average F1-score: 81.76%\n",
      "Training size: 25000 Average F1-score: 85.95%\n"
     ]
    }
   ],
   "source": [
    "#CountVectorizer and LogisticRegression\n",
    "vectorizer = CountVectorizer(max_features=1000,analyzer='word',lowercase=True)\n",
    "vectorizer.fit(alltrain.data)\n",
    "print(\"Vectorized with CountVectorizer and trained with LogisticRegression algorithm\")\n",
    "for trainSize in [1000, 5000, 25000]:\n",
    "    model = LogisticRegression(solver='liblinear')\n",
    "    model.fit(vectorizer.transform(train.data[0:trainSize]), train.target[0:trainSize])\n",
    "    #Vectorize our test data.\n",
    "    test_pred = model.predict(vectorizer.transform(test.data))\n",
    "    #Determine our F1 score\n",
    "    F1 = 100*f1_score(test.target, test_pred, average='macro')\n",
    "    print(\"Training size: %d Average F1-score: %3.2f%%\" % (trainSize, F1))"
   ]
  },
  {
   "cell_type": "code",
   "execution_count": 38,
   "metadata": {},
   "outputs": [
    {
     "name": "stdout",
     "output_type": "stream",
     "text": [
      "Vectorized with CountVectorizer and trained with MultinomialNaiveBayes algorithm\n",
      "Training size: 1000 Average F1-score: 79.31%\n",
      "Training size: 5000 Average F1-score: 80.68%\n",
      "Training size: 25000 Average F1-score: 80.92%\n"
     ]
    }
   ],
   "source": [
    "#CountVectorizer and MultinomialNaiveBayes\n",
    "vectorizer = CountVectorizer(max_features=1000,analyzer='word',lowercase=True)\n",
    "vectorizer.fit(alltrain.data)\n",
    "print(\"Vectorized with CountVectorizer and trained with MultinomialNaiveBayes algorithm\")\n",
    "for trainSize in [1000, 5000, 25000]:\n",
    "    model = MultinomialNB()\n",
    "    model.fit(vectorizer.transform(train.data[0:trainSize]), train.target[0:trainSize])\n",
    "    #Vectorize our test data.\n",
    "    test_pred = model.predict(vectorizer.transform(test.data))\n",
    "    #Determine our F1 score\n",
    "    F1 = 100*f1_score(test.target, test_pred, average='macro')\n",
    "    print(\"Training size: %d Average F1-score: %3.2f%%\" % (trainSize, F1))"
   ]
  },
  {
   "cell_type": "code",
   "execution_count": 39,
   "metadata": {},
   "outputs": [
    {
     "name": "stdout",
     "output_type": "stream",
     "text": [
      "Vectorized with TfidVectorizer and trained with MultinomialNaiveBayes algorithm\n",
      "Training size: 1000 Average F1-score: 81.23%\n",
      "Training size: 5000 Average F1-score: 82.91%\n",
      "Training size: 25000 Average F1-score: 83.28%\n"
     ]
    }
   ],
   "source": [
    "#TfidVectorizer and MultinomialNaiveBayes\n",
    "vectorizer = TfidfVectorizer(max_features=1000,analyzer='word',lowercase=True)\n",
    "vectorizer.fit(alltrain.data)\n",
    "print(\"Vectorized with TfidVectorizer and trained with MultinomialNaiveBayes algorithm\")\n",
    "for trainSize in [1000, 5000, 25000]:\n",
    "    model = MultinomialNB()\n",
    "    model.fit(vectorizer.transform(train.data[0:trainSize]), train.target[0:trainSize])\n",
    "    #Vectorize our test data.\n",
    "    test_pred = model.predict(vectorizer.transform(test.data))\n",
    "    #Determine our F1 score\n",
    "    F1 = 100*f1_score(test.target, test_pred, average='macro')\n",
    "    print(\"Training size: %d Average F1-score: %3.2f%%\" % (trainSize, F1))"
   ]
  },
  {
   "cell_type": "code",
   "execution_count": 40,
   "metadata": {},
   "outputs": [
    {
     "name": "stdout",
     "output_type": "stream",
     "text": [
      "Vectorized with TfidVectorizer and trained with LogisticRegression\n",
      "Training size: 1000 Average F1-score: 80.69%\n",
      "Training size: 5000 Average F1-score: 84.68%\n",
      "Training size: 25000 Average F1-score: 86.34%\n"
     ]
    }
   ],
   "source": [
    "#TfidVectorizer and LogisticRegression\n",
    "vectorizer = TfidfVectorizer(max_features=1000,analyzer='word',lowercase=True)\n",
    "vectorizer.fit(alltrain.data)\n",
    "print(\"Vectorized with TfidVectorizer and trained with LogisticRegression\")\n",
    "for trainSize in [1000, 5000, 25000]:\n",
    "    model = LogisticRegression(solver='liblinear')\n",
    "    model.fit(vectorizer.transform(train.data[0:trainSize]), train.target[0:trainSize])\n",
    "    #Vectorize our test data.\n",
    "    test_pred = model.predict(vectorizer.transform(test.data))\n",
    "    #Determine our F1 score\n",
    "    F1 = 100*f1_score(test.target, test_pred, average='macro')\n",
    "    print(\"Training size: %d Average F1-score: %3.2f%%\" % (trainSize, F1))"
   ]
  },
  {
   "cell_type": "markdown",
   "metadata": {},
   "source": [
    "The first setting of note that applies across the different scales is the size of the training data. In these scenarios, as the size of the training data increases, so does the performance. \n",
    "\n",
    "However, certain setting combinations (vectorizer and model) gain a higher performance increase from an increase in the size of training. The most significant is perhaps using CountVectorizer and Logistic regression. In this combination, the performance increased from 77.6% to 86% when we used the full training data (1000 to 25000). The least significant is using CountVectorizer and MultinomialNaiveBayes algorithm which only resulted in an performance increase from 79.3% to 81% when the train data size was increased from 1000 to 25000.\n",
    "\n",
    "Using MultinomialNaiveBayes seems to boost the performance (when compared to LogisticRegression) in all cases when a low training size is used (1000), but decrease the performance when more training data is given (5000+). Using TfidVectorizer also seems to increas the performance (when compared to CountVectorizer) for both training algorithms and across all scales of data. \n",
    "\n",
    "The best performing setting when given a low amount of training data (1000) was using TfidVectorizer with MultinomialNaiveBayes with a score of 81.23% while the worst was CountVectorizer and LogisticRegression that resulted in a score of 77.6%. This situation was negated when we used the full training set (25000). In this case the best performing algorithm was TfidVectorizer with LogisticRegression while the worst was CountVectorizer and MultinomialNaiveBayes\n"
   ]
  },
  {
   "cell_type": "markdown",
   "metadata": {},
   "source": [
    "Following from the above observations, I would elect to use different settings depending on the amount of training data I have. If I had a small amount of training data (1000) I would use (TfidVectorizer and MultinomialNaiveBayes). If I had a higher amount of training data (5000+) I would use (TfidVectorizer and LogisticRegression)"
   ]
  },
  {
   "cell_type": "markdown",
   "metadata": {},
   "source": [
    "# 8. Building a Word2Vec model for sentiment analysis"
   ]
  },
  {
   "cell_type": "code",
   "execution_count": 41,
   "metadata": {},
   "outputs": [],
   "source": [
    "#Using Gensim package implementation of Word2Vec \n",
    "import gensim\n",
    "# Import Word2Vec from Gensim\n",
    "from gensim.models import Word2Vec\n",
    "#Use the same tokenization strategy as in previous sections\n",
    "from sklearn.feature_extraction.text import CountVectorizer\n",
    "wordtokenizer=CountVectorizer().build_analyzer()\n"
   ]
  },
  {
   "cell_type": "code",
   "execution_count": 42,
   "metadata": {},
   "outputs": [
    {
     "name": "stdout",
     "output_type": "stream",
     "text": [
      "CPU times: user 4min 34s, sys: 4.31 s, total: 4min 39s\n",
      "Wall time: 1min 48s\n"
     ]
    }
   ],
   "source": [
    "#A Word2Vec model taking in array of vectorized words\n",
    "#Using the following settings: word vector size=150, model window=10, min_count of words to include=2\n",
    "%time wv_model = gensim.models.Word2Vec([wordtokenizer(str(i)) for i in alltrain.data],size=150,window=10,min_count=2)"
   ]
  },
  {
   "cell_type": "markdown",
   "metadata": {},
   "source": [
    "#### Overview of our learnt model"
   ]
  },
  {
   "cell_type": "code",
   "execution_count": 43,
   "metadata": {},
   "outputs": [
    {
     "name": "stdout",
     "output_type": "stream",
     "text": [
      "Word = Queen\n",
      "Token = queen\n",
      "Most Similar:\n",
      "[('princess', 0.6992750763893127), ('bride', 0.6394477486610413), ('goddess', 0.6373637914657593)]\n",
      "------------\n",
      "Word Vector(first 10):\n",
      "[-0.642914   -0.41942874 -0.07933773  1.1781713  -1.8192645  -0.42068008\n",
      "  0.19961537 -0.7094885   2.0396817  -0.23580664]\n",
      "Word Vector length:\n",
      "150\n"
     ]
    }
   ],
   "source": [
    "#Given a word, get the top 3 similar words and display the interal word vector.\n",
    "word = \"Queen\"\n",
    "#Tokenize word, taking the first token in the list\n",
    "tokword=wordtokenizer(word)[0]\n",
    "\n",
    "print(\"Word = %s\" % word)\n",
    "print(\"Token = %s\" % tokword)\n",
    "\n",
    "#Proceed if word is in the model\n",
    "if (tokword in wv_model.wv.vocab):\n",
    "    print(\"Most Similar:\")\n",
    "    print(wv_model.wv.most_similar(tokword,topn=3))\n",
    "    print(\"------------\")\n",
    "    print(\"Word Vector(first 10):\")\n",
    "    print(wv_model.wv[tokword][0:10])\n",
    "    print(\"Word Vector length:\")\n",
    "    print(len(wv_model.wv[tokword]))\n",
    "else:\n",
    "    print(\"Unknown Word\")"
   ]
  },
  {
   "cell_type": "code",
   "execution_count": 44,
   "metadata": {},
   "outputs": [
    {
     "name": "stdout",
     "output_type": "stream",
     "text": [
      "france - paris + berlin = \n",
      "[('germany', 0.769467830657959), ('spain', 0.7347414493560791), ('poland', 0.7131622433662415)]\n"
     ]
    }
   ],
   "source": [
    "#Analogies: A1 to B1 is like what to B2 <br> (A1 - B1 + B2 = A2) <br> *e.g. King - Man + Woman = Queen*\n",
    "A1_word = \"France\" \n",
    "B1_word = \"Paris\"\n",
    "B2_word = \"Berlin\"\n",
    "\n",
    "#Tokenize words\n",
    "A1_tokword=wordtokenizer(A1_word)[0]\n",
    "B1_tokword=wordtokenizer(B1_word)[0]\n",
    "B2_tokword=wordtokenizer(B2_word)[0]\n",
    "\n",
    "#Analogy formula\n",
    "print(\"%s - %s + %s = \" % (A1_tokword,B1_tokword,B2_tokword))\n",
    "\n",
    "#Check if our word is in the vocab of our model\n",
    "if (A1_tokword in wv_model.wv.vocab and B1_tokword in wv_model.wv.vocab and B2_tokword in wv_model.wv.vocab):\n",
    "    print(wv_model.wv.most_similar(positive=[A1_tokword,B2_tokword],negative=[B1_tokword],topn=3))\n",
    "else:\n",
    "    print(\"One of the given words is not known\")"
   ]
  },
  {
   "cell_type": "code",
   "execution_count": 45,
   "metadata": {},
   "outputs": [
    {
     "name": "stdout",
     "output_type": "stream",
     "text": [
      "Sentences: the young king told us he was angry | the prince said he was mad\n",
      "Sentence Similarity 75.352\n",
      "Sentences: twinkle twinkle little star | what is the meaning of life\n",
      "Sentence Similarity 0.373\n"
     ]
    }
   ],
   "source": [
    "#Sentence Similarty:  sentence1 to sentence2 \n",
    "#Word2Vec is for words so to evaluate sentences, we map words into a single vector\n",
    "\n",
    "#Map senteneces to a single vecvtor. Tokenize and filter unknown words.\n",
    "def meanW2VTransform (sent):\n",
    "    return np.mean(\n",
    "        [wv_model.wv[wordi] for wordi in list(filter(lambda i : i in wv_model.wv.vocab, wordtokenizer(str(sent))))],\n",
    "        axis=0\n",
    "    )\n",
    "\n",
    "#Use cosine similarity to measure the distance\n",
    "from sklearn.metrics.pairwise import cosine_similarity as cosine\n",
    "\n",
    "sentence1 = \"the young king told us he was angry\"\n",
    "sentence2 = \"the prince said he was mad\"\n",
    "print(\"Sentences: %s | %s\" % (sentence1, sentence2))\n",
    "print(\"Sentence Similarity %3.3f\" %(100*cosine([meanW2VTransform(sentence1)],[meanW2VTransform(sentence2)])))\n",
    "\n",
    "sentence1 = \"twinkle twinkle little star\"\n",
    "sentence2 = \"what is the meaning of life\"\n",
    "print(\"Sentences: %s | %s\" % (sentence1, sentence2))\n",
    "print(\"Sentence Similarity %3.3f\" %(100*cosine([meanW2VTransform(sentence1)],[meanW2VTransform(sentence2)])))"
   ]
  },
  {
   "cell_type": "markdown",
   "metadata": {
    "colab_type": "text",
    "id": "a5DNa04kjrPf"
   },
   "source": [
    "#### Sentence-level sentiment analysis using a vectorizer based on average vectors of words in a sentence. "
   ]
  },
  {
   "cell_type": "code",
   "execution_count": 46,
   "metadata": {},
   "outputs": [
    {
     "name": "stdout",
     "output_type": "stream",
     "text": [
      "Accuracy  = 86.81%\n",
      "Average Precision = 86.81%\n",
      "Average Recall    = 86.81%\n",
      "Average F1-score  = 86.81%\n"
     ]
    }
   ],
   "source": [
    "# Sentiment analysis using Logistic Regression and a Word2Vec-based vectorizer.\n",
    "\n",
    "# Same tokenization strategy as above section\n",
    "from sklearn.feature_extraction.text import CountVectorizer\n",
    "wordtokenizer=CountVectorizer().build_analyzer()\n",
    "\n",
    "# Reduce sentences to the mean word vector of that sentence.\n",
    "def meanW2VTransform (sent):\n",
    "    return np.mean(\n",
    "        [wv_model.wv[wordi] for wordi in list(filter(lambda i : i in wv_model.wv.vocab, wordtokenizer(str(sent))))],\n",
    "        axis=0\n",
    "    )\n",
    "  \n",
    "\n",
    "# Create our LR model\n",
    "from sklearn.linear_model import LogisticRegression\n",
    "WordLRModel = LogisticRegression(solver='liblinear')\n",
    "\n",
    "# Train\n",
    "WordLRModel.fit([meanW2VTransform(str(i)) for i in  train.data], train.target)\n",
    "\n",
    "# Predict\n",
    "test_pred = WordLRModel.predict([meanW2VTransform(str(i)) for i in  test.data])\n",
    "\n",
    "# Evaluate\n",
    "from sklearn.metrics import precision_score, recall_score, accuracy_score, f1_score\n",
    "\n",
    "print (\"Accuracy  = %3.2f%%\" % (100*accuracy_score(test.target, test_pred)))\n",
    "print (\"Average Precision = %3.2f%%\" % (100*precision_score(test.target, test_pred, average='macro')))\n",
    "print (\"Average Recall    = %3.2f%%\" % (100*recall_score(test.target, test_pred, average='macro')))\n",
    "print (\"Average F1-score  = %3.2f%%\" % (100*f1_score(test.target, test_pred, average='macro')))"
   ]
  },
  {
   "cell_type": "markdown",
   "metadata": {},
   "source": [
    "### 8.1 Searching for optimal parameters"
   ]
  },
  {
   "cell_type": "markdown",
   "metadata": {},
   "source": [
    "In order to find the most optimal parameter for my model, I will search over the following parameters:\n",
    "\n",
    "size={75, 150, 300}\n",
    "\n",
    "window={5,10, 20}\n",
    "\n",
    "training data size={1000, 5000, 25,000}\n",
    "\n",
    "For a total of 3x3x3=27 settings"
   ]
  },
  {
   "cell_type": "code",
   "execution_count": 47,
   "metadata": {},
   "outputs": [
    {
     "name": "stdout",
     "output_type": "stream",
     "text": [
      "size: 75 | window 5 | trainSize 1000\n",
      "Average F1-score  = 83.51%\n",
      "size: 75 | window 5 | trainSize 5000\n",
      "Average F1-score  = 84.07%\n",
      "size: 75 | window 5 | trainSize 25000\n",
      "Average F1-score  = 84.41%\n",
      "size: 75 | window 10 | trainSize 1000\n",
      "Average F1-score  = 84.53%\n",
      "size: 75 | window 10 | trainSize 5000\n",
      "Average F1-score  = 85.39%\n",
      "size: 75 | window 10 | trainSize 25000\n",
      "Average F1-score  = 85.59%\n",
      "size: 75 | window 20 | trainSize 1000\n",
      "Average F1-score  = 85.56%\n",
      "size: 75 | window 20 | trainSize 5000\n",
      "Average F1-score  = 86.22%\n",
      "size: 75 | window 20 | trainSize 25000\n",
      "Average F1-score  = 86.61%\n",
      "size: 150 | window 5 | trainSize 1000\n",
      "Average F1-score  = 84.44%\n",
      "size: 150 | window 5 | trainSize 5000\n",
      "Average F1-score  = 85.72%\n",
      "size: 150 | window 5 | trainSize 25000\n",
      "Average F1-score  = 86.29%\n",
      "size: 150 | window 10 | trainSize 1000\n",
      "Average F1-score  = 85.56%\n",
      "size: 150 | window 10 | trainSize 5000\n",
      "Average F1-score  = 86.56%\n",
      "size: 150 | window 10 | trainSize 25000\n",
      "Average F1-score  = 86.82%\n",
      "size: 150 | window 20 | trainSize 1000\n",
      "Average F1-score  = 85.98%\n",
      "size: 150 | window 20 | trainSize 5000\n",
      "Average F1-score  = 87.11%\n",
      "size: 150 | window 20 | trainSize 25000\n",
      "Average F1-score  = 87.58%\n",
      "size: 300 | window 5 | trainSize 1000\n",
      "Average F1-score  = 84.85%\n",
      "size: 300 | window 5 | trainSize 5000\n",
      "Average F1-score  = 86.30%\n",
      "size: 300 | window 5 | trainSize 25000\n",
      "Average F1-score  = 87.10%\n",
      "size: 300 | window 10 | trainSize 1000\n",
      "Average F1-score  = 85.60%\n",
      "size: 300 | window 10 | trainSize 5000\n",
      "Average F1-score  = 86.81%\n",
      "size: 300 | window 10 | trainSize 25000\n",
      "Average F1-score  = 87.72%\n",
      "size: 300 | window 20 | trainSize 1000\n",
      "Average F1-score  = 86.10%\n",
      "size: 300 | window 20 | trainSize 5000\n",
      "Average F1-score  = 87.38%\n",
      "size: 300 | window 20 | trainSize 25000\n",
      "Average F1-score  = 88.25%\n"
     ]
    }
   ],
   "source": [
    "for size in [75,150,300]:\n",
    "    for window in [5, 10, 20]:\n",
    "        for trainSize in [1000,5000,25000]:\n",
    "            #Create our Word2Vec vectorizer with the required parameters\n",
    "            wv_model = gensim.models.Word2Vec([wordtokenizer(str(i)) for i in alltrain.data],size=size,window=window,min_count=2)\n",
    "            #Create the LR model.\n",
    "            model = LogisticRegression(solver='liblinear')\n",
    "            #Train with trainSize\n",
    "            model.fit([meanW2VTransform(str(i)) for i in  train.data[0:trainSize]], train.target[0:trainSize])\n",
    "            #Predict on our test data\n",
    "            test_pred = model.predict([meanW2VTransform(str(i)) for i in  test.data])\n",
    "            #Evaluate the F1 score\n",
    "            print(\"size: %d | window %d | trainSize %d\" %(size,window,trainSize))\n",
    "            print (\"Average F1-score  = %3.2f%%\" % (100*f1_score(test.target, test_pred, average='macro')))\n",
    "    "
   ]
  },
  {
   "cell_type": "markdown",
   "metadata": {},
   "source": [
    "I found quite interesting relationships between the various settings. First of all, across all the setting parameters, when the trainSize increased, so did the performance. For instance, with a feature size of 300 and window of 30, when the trainSize was increased from 1000 to 25000, the performance of the setting increased from 86% to 88%. What is suprising to me however is the performance with only a training size of 1000. The model could predict quite accuracy with even a small trainingSize of 1000.\n",
    "\n",
    "Taking a look at the size, which is the dimensionality of the word vectors, I noticed that when the size was increased (while keeping the other settings constant) then the performance generally increased. For example, when the size was increased from 75 to 300, across all the settings the performance increased. This is probably because with a higher dimension, the word vectors contain a greater featuress that can be used differentiate each other.\n",
    "\n",
    "Following the above point, It also appears that the greatest performance gains from increasing the trainSize was when the vector dimension (size) setting was the highest. For example, (keeping a window of 20) when the size was 75 and we increased the train size from 1000 to 25000 we went from 85.55% to 86.65% representing a 1.1% increase. On the other hand at a size of 300, when we increased the train size from 1000 to 25000 we went from 86.14% to 88.15% representing a 2% increase."
   ]
  },
  {
   "cell_type": "markdown",
   "metadata": {},
   "source": [
    "# 9. Building a Doc2Vec model for sentiment analysis"
   ]
  },
  {
   "cell_type": "markdown",
   "metadata": {},
   "source": [
    "Doc2Vec is tool for representing documents as vectors. It builds on the Word2Vec model and extends it.\n",
    "Doc2Vec was introduced in a paper by Le and Mikolov (ICML 2014) titled \"[Distributed Representations of Sentences and Documents](https://cs.stanford.edu/~quocle/paragraph_vector.pdf)\".\n",
    "\n",
    "We will use the [Gensim package implementation of Doc2Vec](https://radimrehurek.com/gensim/models/doc2vec.html), specifically, [Scikit-learn wrapper for it in Gensim](https://radimrehurek.com/gensim/sklearn_api/d2vmodel.html). \n",
    "\n",
    "We start with training a Doc2Vec model and use it in a sentiment analyzer. Then we studying Doc2Vec's behavior under different settings.\n"
   ]
  },
  {
   "cell_type": "code",
   "execution_count": 48,
   "metadata": {},
   "outputs": [],
   "source": [
    "import gensim\n",
    "#Use the same vectorizer as previously\n",
    "from sklearn.feature_extraction.text import CountVectorizer\n",
    "wordtokenizer=CountVectorizer().build_analyzer()"
   ]
  },
  {
   "cell_type": "code",
   "execution_count": 49,
   "metadata": {},
   "outputs": [],
   "source": [
    "# Gensim Doc2Vec transformer\n",
    "from gensim.sklearn_api import D2VTransformer\n",
    "\n",
    "# We create the D2V Vectorizer.\n",
    "# size – Dimensionality of the feature vectors.\n",
    "# iter – Number of epochs to iterate over corpus\n",
    "D2Vectorizer = D2VTransformer(dm=0, size=100, negative=5, hs=0, min_count=2, sample=0, iter=20)"
   ]
  },
  {
   "cell_type": "code",
   "execution_count": 50,
   "metadata": {},
   "outputs": [
    {
     "data": {
      "text/plain": [
       "D2VTransformer(alpha=0.025, batch_words=10000, cbow_mean=1, comment=None,\n",
       "        dbow_words=0, dm=0, dm_concat=0, dm_mean=None, dm_tag_count=1,\n",
       "        docvecs=None, docvecs_mapfile=None,\n",
       "        hashfxn=<built-in function hash>, hs=0, iter=20,\n",
       "        max_vocab_size=None, min_alpha=0.0001, min_count=2, negative=5,\n",
       "        sample=0, seed=1, size=100, sorted_vocab=1, trim_rule=None,\n",
       "        window=5, workers=3)"
      ]
     },
     "execution_count": 50,
     "metadata": {},
     "output_type": "execute_result"
    }
   ],
   "source": [
    "D2Vectorizer.fit([wordtokenizer(str(i)) for i in alltrain.data])"
   ]
  },
  {
   "cell_type": "code",
   "execution_count": 51,
   "metadata": {},
   "outputs": [
    {
     "data": {
      "text/plain": [
       "LogisticRegression(C=1.0, class_weight=None, dual=False, fit_intercept=True,\n",
       "          intercept_scaling=1, max_iter=100, multi_class='warn',\n",
       "          n_jobs=None, penalty='l2', random_state=None, solver='liblinear',\n",
       "          tol=0.0001, verbose=0, warm_start=False)"
      ]
     },
     "execution_count": 51,
     "metadata": {},
     "output_type": "execute_result"
    }
   ],
   "source": [
    "# Use a LogisticRegression model\n",
    "from sklearn.linear_model import LogisticRegression\n",
    "DocLRModel = LogisticRegression(solver='liblinear')\n",
    "\n",
    "#Tectorize with our Doc2Vec method and then train the LogisticRegression mode.\n",
    "DocLRModel.fit(D2Vectorizer.transform([wordtokenizer(str(i)) for i in train.data]), train.target)"
   ]
  },
  {
   "cell_type": "code",
   "execution_count": 52,
   "metadata": {},
   "outputs": [
    {
     "name": "stdout",
     "output_type": "stream",
     "text": [
      "Accuracy  = 88.01%\n",
      "Average Precision = 88.03%\n",
      "Average Recall    = 88.01%\n",
      "Average F1-score  = 88.01%\n"
     ]
    }
   ],
   "source": [
    "#Evaluate over the test set\n",
    "test_pred = DocLRModel.predict(D2Vectorizer.transform([wordtokenizer(str(i)) for i in  test.data]))\n",
    "\n",
    "print (\"Accuracy  = %3.2f%%\" % (100*accuracy_score(test.target, test_pred)))\n",
    "print (\"Average Precision = %3.2f%%\" % (100*precision_score(test.target, test_pred, average='macro')))\n",
    "print (\"Average Recall    = %3.2f%%\" % (100*recall_score(test.target, test_pred, average='macro')))\n",
    "print (\"Average F1-score  = %3.2f%%\" % (100*f1_score(test.target, test_pred, average='macro')))"
   ]
  },
  {
   "cell_type": "markdown",
   "metadata": {},
   "source": [
    "### 9.1 Searching for optimal parameters"
   ]
  },
  {
   "cell_type": "markdown",
   "metadata": {},
   "source": [
    "In order to find the most optimal parameter for my model, I will search over the following parameters:\n",
    "\n",
    "size={50, 100, 200}\n",
    "\n",
    "iter={1,5, 20}\n",
    "\n",
    "training data size={1000, 5000, 25,000}\n",
    "\n",
    "For a total of 3x3x3=27 settings"
   ]
  },
  {
   "cell_type": "code",
   "execution_count": 53,
   "metadata": {},
   "outputs": [
    {
     "name": "stdout",
     "output_type": "stream",
     "text": [
      "size: 50 | iter: 1 | trainSize: 1000\n",
      "Average F1-score  = 77.02%\n",
      "size: 50 | iter: 1 | trainSize: 5000\n",
      "Average F1-score  = 77.64%\n",
      "size: 50 | iter: 1 | trainSize: 25000\n",
      "Average F1-score  = 78.50%\n",
      "size: 50 | iter: 5 | trainSize: 1000\n",
      "Average F1-score  = 85.70%\n",
      "size: 50 | iter: 5 | trainSize: 5000\n",
      "Average F1-score  = 86.13%\n",
      "size: 50 | iter: 5 | trainSize: 25000\n",
      "Average F1-score  = 86.43%\n",
      "size: 50 | iter: 20 | trainSize: 1000\n",
      "Average F1-score  = 87.44%\n",
      "size: 50 | iter: 20 | trainSize: 5000\n",
      "Average F1-score  = 87.72%\n",
      "size: 50 | iter: 20 | trainSize: 25000\n",
      "Average F1-score  = 87.92%\n",
      "size: 100 | iter: 1 | trainSize: 1000\n",
      "Average F1-score  = 76.79%\n",
      "size: 100 | iter: 1 | trainSize: 5000\n",
      "Average F1-score  = 77.42%\n",
      "size: 100 | iter: 1 | trainSize: 25000\n",
      "Average F1-score  = 78.31%\n",
      "size: 100 | iter: 5 | trainSize: 1000\n",
      "Average F1-score  = 84.86%\n",
      "size: 100 | iter: 5 | trainSize: 5000\n",
      "Average F1-score  = 86.10%\n",
      "size: 100 | iter: 5 | trainSize: 25000\n",
      "Average F1-score  = 86.42%\n",
      "size: 100 | iter: 20 | trainSize: 1000\n",
      "Average F1-score  = 86.39%\n",
      "size: 100 | iter: 20 | trainSize: 5000\n",
      "Average F1-score  = 87.53%\n",
      "size: 100 | iter: 20 | trainSize: 25000\n",
      "Average F1-score  = 87.93%\n",
      "size: 200 | iter: 1 | trainSize: 1000\n",
      "Average F1-score  = 75.89%\n",
      "size: 200 | iter: 1 | trainSize: 5000\n",
      "Average F1-score  = 76.80%\n",
      "size: 200 | iter: 1 | trainSize: 25000\n",
      "Average F1-score  = 77.82%\n",
      "size: 200 | iter: 5 | trainSize: 1000\n",
      "Average F1-score  = 84.89%\n",
      "size: 200 | iter: 5 | trainSize: 5000\n",
      "Average F1-score  = 86.00%\n",
      "size: 200 | iter: 5 | trainSize: 25000\n",
      "Average F1-score  = 86.75%\n",
      "size: 200 | iter: 20 | trainSize: 1000\n",
      "Average F1-score  = 83.58%\n",
      "size: 200 | iter: 20 | trainSize: 5000\n",
      "Average F1-score  = 85.86%\n",
      "size: 200 | iter: 20 | trainSize: 25000\n",
      "Average F1-score  = 86.93%\n"
     ]
    }
   ],
   "source": [
    "for size in [50,100,200]:\n",
    "    for iter in [1, 5, 20]:\n",
    "        for trainSize in [1000,5000,25000]:\n",
    "            #Create our vectorizer with the correct parameters:\n",
    "            D2Vectorizer = D2VTransformer(dm=0, size=size, negative=5, hs=0, min_count=2, sample=0, iter=iter)\n",
    "            # Training the vectorizer requires training data in the form of array of sentences consisting of arrays of words.\n",
    "            D2Vectorizer.fit([wordtokenizer(str(i)) for i in alltrain.data])\n",
    "            #Create our logistic regression model\n",
    "            model = LogisticRegression(solver='liblinear')\n",
    "            #Train the model with the required trainSize\n",
    "            model.fit(D2Vectorizer.transform([wordtokenizer(str(i)) for i in train.data[0:trainSize]]), train.target[0:trainSize])\n",
    "            #Evaluate over the test set\n",
    "            test_pred = model.predict(D2Vectorizer.transform([wordtokenizer(str(i)) for i in  test.data]))\n",
    "            #Print results\n",
    "            print(\"size: %d | iter: %d | trainSize: %d\" %(size,iter,trainSize))\n",
    "            print (\"Average F1-score  = %3.2f%%\" % (100*f1_score(test.target, test_pred, average='macro')))\n",
    "            "
   ]
  },
  {
   "cell_type": "markdown",
   "metadata": {},
   "source": [
    "After running this parameter search, I noticed some interesting observations.\n",
    "\n",
    "Not suprisingly, every time the trainSize was increased, the performance of the model also increased. This is because the model has more examples to train over and so can predict the test set better.\n",
    "\n",
    "Furthurmore, as discussed in section 8, when the dimensionality of the document vector (size) increased, the performance also increased in most situations. However, this did not hold for every single case. For example with (20 iterations and a train size of 1000) when we increased the feature size from 100 to 200, the performance decreased from 86.55% to 84.11%, marking a 2.44% decrease. There could be many causes, but this is likely because increasing the dimensionality of the feature vector lends to a higher likelihood of overfitting. This means that the model was less able to generalize over the unseen test set. \n",
    "\n",
    "When a low vector size, the system performed better when both the trainSize and the number of iterations was higher (as it has lower likelihood of overfitting). Overall, the best system had the following parameters (size: 100 | iter: 20 | trainSize: 25000) performing with a F-score of 88.18% while the worst system used (size: 200 | iter: 1 | trainSize: 1000) performing with a F-score of F1-score  = 75.92%\n"
   ]
  },
  {
   "cell_type": "markdown",
   "metadata": {},
   "source": [
    "# 10. Support Vector Machine with stemming"
   ]
  },
  {
   "cell_type": "markdown",
   "metadata": {},
   "source": [
    "#### Using linear SVM to train after running PorterStemmer, tokenizer and Doc2Vec vectorization algorithm"
   ]
  },
  {
   "cell_type": "markdown",
   "metadata": {},
   "source": [
    "1. First, the porter stemmer was applied to stem the movie review text at a sentence level. This was done in order to reduce the space of unnecessary inflections at the word level that don't contribute much to the semantic understanding of the review.\n",
    "\n",
    "2. Second, the sentences were tokenized at both a unigram and bi-gram level. The idea behind this step is to move away from a bag-of-words level and into a phrase level understanding of the reviews. This should help classify cases where the words used in the review may be positive, but negated at a bi-gram level. For instance, `Awfully good`\n",
    "\n",
    "3. Second, the words were vectorized before fed into the Doc2Vec model. This was done because we want to capture the relationships between phrases at a higher level than a simple bag-of-words of bag-of-phrases model.\n",
    "\n",
    "4. All of this was fed into a linear SVM in order to give us our classifications."
   ]
  },
  {
   "cell_type": "code",
   "execution_count": 54,
   "metadata": {},
   "outputs": [],
   "source": [
    "#Use porter stemmer\n",
    "from gensim.parsing.porter import PorterStemmer\n",
    "from sklearn import svm\n",
    "stemmer = PorterStemmer()"
   ]
  },
  {
   "cell_type": "code",
   "execution_count": 55,
   "metadata": {},
   "outputs": [],
   "source": [
    "#Bigram tokenizer\n",
    "wordtokenizer=CountVectorizer(ngram_range=(1,2)).build_analyzer()"
   ]
  },
  {
   "cell_type": "code",
   "execution_count": 56,
   "metadata": {},
   "outputs": [],
   "source": [
    "#Create our vectorizer with the parameters:\n",
    "D2Vectorizer = D2VTransformer(dm=0, size=150, workers=4, negative=5, hs=0, min_count=5, sample=0, iter=20)"
   ]
  },
  {
   "cell_type": "code",
   "execution_count": 57,
   "metadata": {},
   "outputs": [
    {
     "data": {
      "text/plain": [
       "D2VTransformer(alpha=0.025, batch_words=10000, cbow_mean=1, comment=None,\n",
       "        dbow_words=0, dm=0, dm_concat=0, dm_mean=None, dm_tag_count=1,\n",
       "        docvecs=None, docvecs_mapfile=None,\n",
       "        hashfxn=<built-in function hash>, hs=0, iter=20,\n",
       "        max_vocab_size=None, min_alpha=0.0001, min_count=5, negative=5,\n",
       "        sample=0, seed=1, size=150, sorted_vocab=1, trim_rule=None,\n",
       "        window=5, workers=4)"
      ]
     },
     "execution_count": 57,
     "metadata": {},
     "output_type": "execute_result"
    }
   ],
   "source": [
    "# Training the vectorizer requires training data in the form of array of sentences consisting of arrays of words.\n",
    "D2Vectorizer.fit([wordtokenizer(stemmer.stem_sentence(str(i))) for i in alltrain.data])"
   ]
  },
  {
   "cell_type": "code",
   "execution_count": 58,
   "metadata": {},
   "outputs": [
    {
     "data": {
      "text/plain": [
       "LinearSVC(C=1.0, class_weight=None, dual=True, fit_intercept=True,\n",
       "     intercept_scaling=1, loss='squared_hinge', max_iter=2000,\n",
       "     multi_class='ovr', penalty='l2', random_state=None, tol=0.0001,\n",
       "     verbose=0)"
      ]
     },
     "execution_count": 58,
     "metadata": {},
     "output_type": "execute_result"
    }
   ],
   "source": [
    "#Train the SVM\n",
    "svm2gram = svm.LinearSVC(max_iter=2000, penalty='l2', C=1.0)\n",
    "svm2gram.fit(D2Vectorizer.transform([wordtokenizer(stemmer.stem_sentence(str(i))) for i in train.data]), train.target)"
   ]
  },
  {
   "cell_type": "code",
   "execution_count": 59,
   "metadata": {},
   "outputs": [
    {
     "name": "stdout",
     "output_type": "stream",
     "text": [
      "Average F1-score  = 90.40%\n"
     ]
    }
   ],
   "source": [
    "#Evaluate the model\n",
    "test_pred = svm2gram.predict(D2Vectorizer.transform([wordtokenizer(stemmer.stem_sentence(str(i))) for i in  test.data]))\n",
    "print (\"Average F1-score  = %3.2f%%\" % (100*f1_score(test.target, test_pred, average='macro')))"
   ]
  },
  {
   "cell_type": "markdown",
   "metadata": {},
   "source": [
    "# Final F1 of the best model on the test set: 90.40%"
   ]
  },
  {
   "cell_type": "markdown",
   "metadata": {},
   "source": [
    "Overall this was the best model that ran on the test set. I did not conduct any more additional parameter searching with the SVM, but we can expect (from parameter searching in the previous sections) a 1-2% gain if we searched over all parameters"
   ]
  },
  {
   "cell_type": "markdown",
   "metadata": {},
   "source": [
    "# 11. Ensemble learning"
   ]
  },
  {
   "cell_type": "markdown",
   "metadata": {},
   "source": [
    "The final attempt was to use ensemble learning with the three language models that were developed in sections 8, 9 and 10. Each model predicts the sentiment of the text independently and we take the most popular vote as the predicted sentiment. "
   ]
  },
  {
   "cell_type": "code",
   "execution_count": 60,
   "metadata": {},
   "outputs": [],
   "source": [
    "D2Vectorizer = D2VTransformer(dm=0, size=150, workers=4, negative=5, hs=0, min_count=5, sample=0, iter=15)\n",
    "D2Vectorizer.fit([wordtokenizer(str(i)) for i in alltrain.data])\n",
    "test_pred1 = svm2gram.predict(D2Vectorizer.transform([wordtokenizer(str(i)) for i in  test.data]))"
   ]
  },
  {
   "cell_type": "code",
   "execution_count": 61,
   "metadata": {},
   "outputs": [],
   "source": [
    "D2Vectorizer = D2VTransformer(dm=0, size=100, negative=5, hs=0, min_count=2, sample=0, iter=20)\n",
    "D2Vectorizer.fit([wordtokenizer(str(i)) for i in alltrain.data])\n",
    "test_pred2 = DocLRModel.predict(D2Vectorizer.transform([wordtokenizer(str(i)) for i in  test.data]))"
   ]
  },
  {
   "cell_type": "code",
   "execution_count": 62,
   "metadata": {},
   "outputs": [],
   "source": [
    "WordLRModel = LogisticRegression(solver='liblinear')\n",
    "WordLRModel.fit([meanW2VTransform(str(i)) for i in  train.data], train.target)\n",
    "test_pred3 = WordLRModel.predict([meanW2VTransform(str(i)) for i in  test.data])"
   ]
  },
  {
   "cell_type": "code",
   "execution_count": 63,
   "metadata": {},
   "outputs": [
    {
     "name": "stdout",
     "output_type": "stream",
     "text": [
      "Average F1-score  = 88.12%\n"
     ]
    }
   ],
   "source": [
    "result = []\n",
    "for i in range(len(test_pred1)):\n",
    "    pos = 0\n",
    "    pos += test_pred1[i]\n",
    "    pos += test_pred2[i]\n",
    "    pos += test_pred3[i]\n",
    "    if pos >= 2:\n",
    "        result.append(1)\n",
    "    else:\n",
    "        result.append(0)\n",
    "\n",
    "print (\"Average F1-score  = %3.2f%%\" % (100*f1_score(result, test.target, average='macro')))"
   ]
  },
  {
   "cell_type": "markdown",
   "metadata": {},
   "source": [
    "Unfortunately, this score is even lower than using our single best model (Stemmed SVM with Doc2Vec). It appears that the other two models (Linear Doc2Vec) and (Linear Word2Vec) are quite correlated and when added together, overpowered the best classifier in the group (Stemmed SVM with Doc2Vec). A possible extension to this research is to weigh the predictions of each model depending on how accurate they are and to incorporate more learners."
   ]
  }
 ],
 "metadata": {
  "kernelspec": {
   "display_name": "Python 3",
   "language": "python",
   "name": "python3"
  },
  "language_info": {
   "codemirror_mode": {
    "name": "ipython",
    "version": 3
   },
   "file_extension": ".py",
   "mimetype": "text/x-python",
   "name": "python",
   "nbconvert_exporter": "python",
   "pygments_lexer": "ipython3",
   "version": "3.6.8"
  }
 },
 "nbformat": 4,
 "nbformat_minor": 2
}
